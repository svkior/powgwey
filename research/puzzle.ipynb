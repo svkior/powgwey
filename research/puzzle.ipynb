{
 "cells": [
  {
   "cell_type": "code",
   "execution_count": 1,
   "id": "73e6cb02-ad8a-4080-85b1-43537eaa9172",
   "metadata": {},
   "outputs": [],
   "source": [
    "import math"
   ]
  },
  {
   "cell_type": "code",
   "execution_count": 2,
   "id": "d739a5a4-a959-4d0a-85ae-7756c6cefc2c",
   "metadata": {},
   "outputs": [],
   "source": [
    "n = 3\n",
    "k = 3"
   ]
  },
  {
   "cell_type": "code",
   "execution_count": 3,
   "id": "4ac6948d-6f20-41f9-974f-422dcb271a2c",
   "metadata": {},
   "outputs": [],
   "source": [
    "def algosin(x,  maxx):\n",
    "    result = maxx * abs(math.sin(x))\n",
    "    return int(result)"
   ]
  },
  {
   "cell_type": "code",
   "execution_count": 4,
   "id": "66bc996d-3ca4-4631-80da-ee1b522b7549",
   "metadata": {},
   "outputs": [
    {
     "name": "stdout",
     "output_type": "stream",
     "text": [
      "7\n"
     ]
    }
   ],
   "source": [
    "maxF = (1 << n) -  1\n",
    "print(maxF)"
   ]
  },
  {
   "cell_type": "code",
   "execution_count": 5,
   "id": "42a10ddd-56ad-4ac3-ad04-c0c3adfbcf54",
   "metadata": {},
   "outputs": [],
   "source": [
    "x0 = 1"
   ]
  },
  {
   "cell_type": "code",
   "execution_count": 6,
   "id": "41826a28-4397-4c31-906f-f7a6da0a8bf5",
   "metadata": {},
   "outputs": [],
   "source": [
    "seq = [0,0,0,0] # k + 1"
   ]
  },
  {
   "cell_type": "code",
   "execution_count": 7,
   "id": "b9c04597-6bc7-47f5-b88d-55973f3ccc0c",
   "metadata": {},
   "outputs": [
    {
     "name": "stdout",
     "output_type": "stream",
     "text": [
      "[0, 0, 0, 1]\n"
     ]
    }
   ],
   "source": [
    "seq[k] = x0\n",
    "print(seq)"
   ]
  },
  {
   "cell_type": "code",
   "execution_count": 19,
   "id": "f75f1c93-9d6d-45e2-8e7e-aa6751282c6e",
   "metadata": {},
   "outputs": [
    {
     "name": "stdout",
     "output_type": "stream",
     "text": [
      "[7, 7, 4, 1]\n",
      "[7, 7, 4, 1]\n",
      "[7, 7, 4, 1]\n"
     ]
    }
   ],
   "source": [
    "xk = x0\n",
    "for i in [1,2,3]:\n",
    "    xk = algosin(xk, maxF) ^ i\n",
    "    seq[k-i] = xk\n",
    "    print(seq)"
   ]
  },
  {
   "cell_type": "markdown",
   "id": "a3ddd7b0-fc39-4b72-8188-aeb221df26c7",
   "metadata": {},
   "source": [
    "Solve\n",
    "\n",
    "0 -> 0,3\n",
    "5 -> 1,4\n",
    "6 -> 2,5\n",
    "1 -> 6\n"
   ]
  },
  {
   "cell_type": "raw",
   "id": "4ae3d535-88c5-4311-aecf-74e731c0a349",
   "metadata": {},
   "source": [
    "currDepth: 7\n",
    "seq:[]\n",
    "\n"
   ]
  },
  {
   "cell_type": "code",
   "execution_count": null,
   "id": "d74f4635-e643-4e78-b2e9-b3511af35217",
   "metadata": {},
   "outputs": [],
   "source": []
  }
 ],
 "metadata": {
  "kernelspec": {
   "display_name": "Python 3 (ipykernel)",
   "language": "python",
   "name": "python3"
  },
  "language_info": {
   "codemirror_mode": {
    "name": "ipython",
    "version": 3
   },
   "file_extension": ".py",
   "mimetype": "text/x-python",
   "name": "python",
   "nbconvert_exporter": "python",
   "pygments_lexer": "ipython3",
   "version": "3.9.12"
  }
 },
 "nbformat": 4,
 "nbformat_minor": 5
}
